{
 "cells": [
  {
   "cell_type": "code",
   "execution_count": 2,
   "id": "8dffd2c5",
   "metadata": {},
   "outputs": [],
   "source": [
    "import pandas as pd\n",
    "import numpy as np\n",
    "import torch\n",
    "import torch.nn as nn\n",
    "import torch.optim as optim\n",
    "import os\n",
    "import matplotlib.pyplot as plt\n",
    "from sklearn.model_selection import train_test_split\n",
    "from sklearn.preprocessing import MinMaxScaler\n",
    "from math import sqrt\n",
    "from sklearn.metrics import mean_squared_error"
   ]
  },
  {
   "cell_type": "code",
   "execution_count": 3,
   "id": "84004b39",
   "metadata": {},
   "outputs": [
    {
     "name": "stdout",
     "output_type": "stream",
     "text": [
      "cpu is available\n"
     ]
    }
   ],
   "source": [
    "device = torch.device('cuda:0' if torch.cuda.is_available() else 'cpu')\n",
    "print(f'{device} is available')"
   ]
  },
  {
   "cell_type": "code",
   "execution_count": 4,
   "id": "865dffd4",
   "metadata": {},
   "outputs": [],
   "source": [
    "df = pd.read_csv('Nickel_Final_DB.csv')"
   ]
  },
  {
   "cell_type": "code",
   "execution_count": 5,
   "id": "1f3e13a0",
   "metadata": {},
   "outputs": [],
   "source": [
    "df1 = pd.read_csv('final_df.csv')"
   ]
  },
  {
   "cell_type": "code",
   "execution_count": 6,
   "id": "22295218",
   "metadata": {},
   "outputs": [],
   "source": [
    "df['Date'] = pd.to_datetime(df['Date'])\n",
    "df1['Date'] = pd.to_datetime(df1['Date'])"
   ]
  },
  {
   "cell_type": "code",
   "execution_count": 7,
   "id": "eb15880a",
   "metadata": {
    "scrolled": true
   },
   "outputs": [
    {
     "name": "stdout",
     "output_type": "stream",
     "text": [
      "<class 'pandas.core.frame.DataFrame'>\n",
      "RangeIndex: 2843 entries, 0 to 2842\n",
      "Data columns (total 19 columns):\n",
      " #   Column         Non-Null Count  Dtype         \n",
      "---  ------         --------------  -----         \n",
      " 0   Date           2843 non-null   datetime64[ns]\n",
      " 1   Price          2843 non-null   float64       \n",
      " 2   Y2_Price       2843 non-null   float64       \n",
      " 3   Y10_Price      2843 non-null   float64       \n",
      " 4   UC_Price       2843 non-null   float64       \n",
      " 5   EU_Price       2843 non-null   float64       \n",
      " 6   GB_Price       2843 non-null   float64       \n",
      " 7   JP_Price       2843 non-null   float64       \n",
      " 8   NetWeight      2843 non-null   int64         \n",
      " 9   TradeValue     2843 non-null   float64       \n",
      " 10  WTI_Price      2843 non-null   float64       \n",
      " 11  B_Price        2843 non-null   float64       \n",
      " 12  Gas_Price      2843 non-null   float64       \n",
      " 13  heating_Price  2843 non-null   float64       \n",
      " 14  NAV            2843 non-null   float64       \n",
      " 15  Dollor_Price   2843 non-null   float64       \n",
      " 16  Stock          2843 non-null   float64       \n",
      " 17  STS_price      2843 non-null   float64       \n",
      " 18  Current_Price  2843 non-null   float64       \n",
      "dtypes: datetime64[ns](1), float64(17), int64(1)\n",
      "memory usage: 422.1 KB\n"
     ]
    }
   ],
   "source": [
    "df.info()"
   ]
  },
  {
   "cell_type": "code",
   "execution_count": 7,
   "id": "825f36d6",
   "metadata": {
    "scrolled": true
   },
   "outputs": [
    {
     "name": "stdout",
     "output_type": "stream",
     "text": [
      "<class 'pandas.core.frame.DataFrame'>\n",
      "RangeIndex: 2792 entries, 0 to 2791\n",
      "Data columns (total 34 columns):\n",
      " #   Column            Non-Null Count  Dtype         \n",
      "---  ------            --------------  -----         \n",
      " 0   Date              2792 non-null   datetime64[ns]\n",
      " 1   Price             2792 non-null   int64         \n",
      " 2   Change %          2792 non-null   float64       \n",
      " 3   Y2_Price          2792 non-null   float64       \n",
      " 4   Y2_Change         2792 non-null   float64       \n",
      " 5   Y10_Price         2792 non-null   float64       \n",
      " 6   Y10_Change        2792 non-null   float64       \n",
      " 7   UC_Price          2792 non-null   float64       \n",
      " 8   UC_Change         2792 non-null   float64       \n",
      " 9   EU_Price          2792 non-null   float64       \n",
      " 10  EU_Change         2792 non-null   float64       \n",
      " 11  GB_Price          2792 non-null   float64       \n",
      " 12  GB_Change         2792 non-null   float64       \n",
      " 13  JP_Price          2792 non-null   float64       \n",
      " 14  JP_Change         2792 non-null   float64       \n",
      " 15  KR_Price          2792 non-null   int64         \n",
      " 16  KR_Change         2792 non-null   float64       \n",
      " 17  NetWeight         2792 non-null   int64         \n",
      " 18  TradeValue        2792 non-null   int64         \n",
      " 19  WTI_Price         2792 non-null   float64       \n",
      " 20  WTI_Change        2792 non-null   float64       \n",
      " 21  B_Price           2792 non-null   float64       \n",
      " 22  B_Change          2792 non-null   float64       \n",
      " 23  Price_y           2792 non-null   float64       \n",
      " 24  Change %_y        2792 non-null   float64       \n",
      " 25  Gas_Price         2792 non-null   float64       \n",
      " 26  Gas_Change %      2792 non-null   float64       \n",
      " 27  heating_Price     2792 non-null   float64       \n",
      " 28  heating_Change %  2792 non-null   float64       \n",
      " 29  NAV               2792 non-null   float64       \n",
      " 30  Dollor_Price      2792 non-null   float64       \n",
      " 31  Dollor_Change %   2792 non-null   float64       \n",
      " 32  Stock             2792 non-null   float64       \n",
      " 33  STS_price         2792 non-null   float64       \n",
      "dtypes: datetime64[ns](1), float64(29), int64(4)\n",
      "memory usage: 741.8 KB\n"
     ]
    }
   ],
   "source": [
    "df1.info()"
   ]
  },
  {
   "cell_type": "code",
   "execution_count": 8,
   "id": "ae94d1c5",
   "metadata": {},
   "outputs": [
    {
     "data": {
      "text/plain": [
       "Index(['Date', 'Price', 'Y2_Price', 'Y10_Price', 'UC_Price', 'EU_Price',\n",
       "       'GB_Price', 'JP_Price', 'NetWeight', 'TradeValue', 'WTI_Price',\n",
       "       'B_Price', 'Gas_Price', 'heating_Price', 'NAV', 'Dollor_Price', 'Stock',\n",
       "       'STS_price', 'Current_Price'],\n",
       "      dtype='object')"
      ]
     },
     "execution_count": 8,
     "metadata": {},
     "output_type": "execute_result"
    }
   ],
   "source": [
    "df.columns"
   ]
  },
  {
   "cell_type": "code",
   "execution_count": 9,
   "id": "4f3a9f44",
   "metadata": {},
   "outputs": [
    {
     "data": {
      "text/plain": [
       "Index(['Date', 'Price', 'Change %', 'Y2_Price', 'Y2_Change', 'Y10_Price',\n",
       "       'Y10_Change', 'UC_Price', 'UC_Change', 'EU_Price', 'EU_Change',\n",
       "       'GB_Price', 'GB_Change', 'JP_Price', 'JP_Change', 'KR_Price',\n",
       "       'KR_Change', 'NetWeight', 'TradeValue', 'WTI_Price', 'WTI_Change',\n",
       "       'B_Price', 'B_Change', 'Price_y', 'Change %_y', 'Gas_Price',\n",
       "       'Gas_Change %', 'heating_Price', 'heating_Change %', 'NAV',\n",
       "       'Dollor_Price', 'Dollor_Change %', 'Stock', 'STS_price'],\n",
       "      dtype='object')"
      ]
     },
     "execution_count": 9,
     "metadata": {},
     "output_type": "execute_result"
    }
   ],
   "source": [
    "df1.columns"
   ]
  },
  {
   "cell_type": "code",
   "execution_count": 9,
   "id": "26cd0555",
   "metadata": {},
   "outputs": [
    {
     "data": {
      "text/html": [
       "<div>\n",
       "<style scoped>\n",
       "    .dataframe tbody tr th:only-of-type {\n",
       "        vertical-align: middle;\n",
       "    }\n",
       "\n",
       "    .dataframe tbody tr th {\n",
       "        vertical-align: top;\n",
       "    }\n",
       "\n",
       "    .dataframe thead th {\n",
       "        text-align: right;\n",
       "    }\n",
       "</style>\n",
       "<table border=\"1\" class=\"dataframe\">\n",
       "  <thead>\n",
       "    <tr style=\"text-align: right;\">\n",
       "      <th></th>\n",
       "      <th>Price</th>\n",
       "      <th>Y2_Price</th>\n",
       "      <th>Y10_Price</th>\n",
       "      <th>UC_Price</th>\n",
       "      <th>EU_Price</th>\n",
       "      <th>GB_Price</th>\n",
       "      <th>JP_Price</th>\n",
       "      <th>NetWeight</th>\n",
       "      <th>TradeValue</th>\n",
       "      <th>WTI_Price</th>\n",
       "      <th>B_Price</th>\n",
       "      <th>Gas_Price</th>\n",
       "      <th>heating_Price</th>\n",
       "      <th>NAV</th>\n",
       "      <th>Dollor_Price</th>\n",
       "      <th>Stock</th>\n",
       "      <th>STS_price</th>\n",
       "      <th>Current_Price</th>\n",
       "    </tr>\n",
       "  </thead>\n",
       "  <tbody>\n",
       "    <tr>\n",
       "      <th>0</th>\n",
       "      <td>0.238627</td>\n",
       "      <td>0.179847</td>\n",
       "      <td>0.876279</td>\n",
       "      <td>0.497450</td>\n",
       "      <td>0.266528</td>\n",
       "      <td>0.079199</td>\n",
       "      <td>0.113516</td>\n",
       "      <td>0.079803</td>\n",
       "      <td>0.282793</td>\n",
       "      <td>0.787268</td>\n",
       "      <td>0.682927</td>\n",
       "      <td>0.425557</td>\n",
       "      <td>0.419028</td>\n",
       "      <td>0.831081</td>\n",
       "      <td>0.201149</td>\n",
       "      <td>0.179010</td>\n",
       "      <td>0.181049</td>\n",
       "      <td>0.494970</td>\n",
       "    </tr>\n",
       "    <tr>\n",
       "      <th>1</th>\n",
       "      <td>0.233182</td>\n",
       "      <td>0.210181</td>\n",
       "      <td>0.915039</td>\n",
       "      <td>0.508264</td>\n",
       "      <td>0.297335</td>\n",
       "      <td>0.083636</td>\n",
       "      <td>0.134073</td>\n",
       "      <td>0.079803</td>\n",
       "      <td>0.282793</td>\n",
       "      <td>0.792971</td>\n",
       "      <td>0.701058</td>\n",
       "      <td>0.399386</td>\n",
       "      <td>0.426917</td>\n",
       "      <td>0.843243</td>\n",
       "      <td>0.226880</td>\n",
       "      <td>0.178936</td>\n",
       "      <td>0.181049</td>\n",
       "      <td>0.480091</td>\n",
       "    </tr>\n",
       "    <tr>\n",
       "      <th>2</th>\n",
       "      <td>0.230650</td>\n",
       "      <td>0.199372</td>\n",
       "      <td>0.895194</td>\n",
       "      <td>0.514419</td>\n",
       "      <td>0.326064</td>\n",
       "      <td>0.085787</td>\n",
       "      <td>0.136256</td>\n",
       "      <td>0.079803</td>\n",
       "      <td>0.282793</td>\n",
       "      <td>0.781070</td>\n",
       "      <td>0.692039</td>\n",
       "      <td>0.394178</td>\n",
       "      <td>0.420066</td>\n",
       "      <td>0.827928</td>\n",
       "      <td>0.243512</td>\n",
       "      <td>0.179380</td>\n",
       "      <td>0.181049</td>\n",
       "      <td>0.486467</td>\n",
       "    </tr>\n",
       "    <tr>\n",
       "      <th>3</th>\n",
       "      <td>0.225831</td>\n",
       "      <td>0.171478</td>\n",
       "      <td>0.873178</td>\n",
       "      <td>0.516089</td>\n",
       "      <td>0.346833</td>\n",
       "      <td>0.080947</td>\n",
       "      <td>0.133164</td>\n",
       "      <td>0.079803</td>\n",
       "      <td>0.282793</td>\n",
       "      <td>0.778900</td>\n",
       "      <td>0.681086</td>\n",
       "      <td>0.392576</td>\n",
       "      <td>0.414564</td>\n",
       "      <td>0.831532</td>\n",
       "      <td>0.250416</td>\n",
       "      <td>0.179025</td>\n",
       "      <td>0.181049</td>\n",
       "      <td>0.471447</td>\n",
       "    </tr>\n",
       "    <tr>\n",
       "      <th>4</th>\n",
       "      <td>0.221298</td>\n",
       "      <td>0.163110</td>\n",
       "      <td>0.860465</td>\n",
       "      <td>0.523738</td>\n",
       "      <td>0.338872</td>\n",
       "      <td>0.080005</td>\n",
       "      <td>0.125523</td>\n",
       "      <td>0.079803</td>\n",
       "      <td>0.282793</td>\n",
       "      <td>0.786463</td>\n",
       "      <td>0.702899</td>\n",
       "      <td>0.389505</td>\n",
       "      <td>0.429989</td>\n",
       "      <td>0.841892</td>\n",
       "      <td>0.246336</td>\n",
       "      <td>0.178804</td>\n",
       "      <td>0.181049</td>\n",
       "      <td>0.463086</td>\n",
       "    </tr>\n",
       "    <tr>\n",
       "      <th>...</th>\n",
       "      <td>...</td>\n",
       "      <td>...</td>\n",
       "      <td>...</td>\n",
       "      <td>...</td>\n",
       "      <td>...</td>\n",
       "      <td>...</td>\n",
       "      <td>...</td>\n",
       "      <td>...</td>\n",
       "      <td>...</td>\n",
       "      <td>...</td>\n",
       "      <td>...</td>\n",
       "      <td>...</td>\n",
       "      <td>...</td>\n",
       "      <td>...</td>\n",
       "      <td>...</td>\n",
       "      <td>...</td>\n",
       "      <td>...</td>\n",
       "      <td>...</td>\n",
       "    </tr>\n",
       "    <tr>\n",
       "      <th>2838</th>\n",
       "      <td>0.258093</td>\n",
       "      <td>0.828278</td>\n",
       "      <td>0.695194</td>\n",
       "      <td>0.537893</td>\n",
       "      <td>0.889581</td>\n",
       "      <td>0.901304</td>\n",
       "      <td>0.927415</td>\n",
       "      <td>0.004249</td>\n",
       "      <td>0.026787</td>\n",
       "      <td>0.917126</td>\n",
       "      <td>0.840865</td>\n",
       "      <td>1.000000</td>\n",
       "      <td>0.719558</td>\n",
       "      <td>0.404505</td>\n",
       "      <td>0.905011</td>\n",
       "      <td>0.019557</td>\n",
       "      <td>1.000000</td>\n",
       "      <td>0.526286</td>\n",
       "    </tr>\n",
       "    <tr>\n",
       "      <th>2839</th>\n",
       "      <td>0.261332</td>\n",
       "      <td>0.835704</td>\n",
       "      <td>0.694264</td>\n",
       "      <td>0.571830</td>\n",
       "      <td>0.905504</td>\n",
       "      <td>0.906010</td>\n",
       "      <td>0.936693</td>\n",
       "      <td>0.004249</td>\n",
       "      <td>0.026787</td>\n",
       "      <td>0.940433</td>\n",
       "      <td>0.844823</td>\n",
       "      <td>0.991588</td>\n",
       "      <td>0.742011</td>\n",
       "      <td>0.399550</td>\n",
       "      <td>0.911507</td>\n",
       "      <td>0.020739</td>\n",
       "      <td>1.000000</td>\n",
       "      <td>0.538898</td>\n",
       "    </tr>\n",
       "    <tr>\n",
       "      <th>2840</th>\n",
       "      <td>0.266914</td>\n",
       "      <td>0.827266</td>\n",
       "      <td>0.691473</td>\n",
       "      <td>0.612625</td>\n",
       "      <td>0.892004</td>\n",
       "      <td>0.910044</td>\n",
       "      <td>0.933600</td>\n",
       "      <td>0.004249</td>\n",
       "      <td>0.026787</td>\n",
       "      <td>0.946507</td>\n",
       "      <td>0.872895</td>\n",
       "      <td>0.967419</td>\n",
       "      <td>0.749724</td>\n",
       "      <td>0.409459</td>\n",
       "      <td>0.904635</td>\n",
       "      <td>0.020000</td>\n",
       "      <td>1.000000</td>\n",
       "      <td>0.562279</td>\n",
       "    </tr>\n",
       "    <tr>\n",
       "      <th>2841</th>\n",
       "      <td>0.281697</td>\n",
       "      <td>0.829393</td>\n",
       "      <td>0.691783</td>\n",
       "      <td>0.577457</td>\n",
       "      <td>0.891312</td>\n",
       "      <td>0.913003</td>\n",
       "      <td>0.933054</td>\n",
       "      <td>0.004249</td>\n",
       "      <td>0.026787</td>\n",
       "      <td>0.949854</td>\n",
       "      <td>0.921307</td>\n",
       "      <td>0.979169</td>\n",
       "      <td>0.732398</td>\n",
       "      <td>0.415766</td>\n",
       "      <td>0.899614</td>\n",
       "      <td>0.019852</td>\n",
       "      <td>1.000000</td>\n",
       "      <td>0.570781</td>\n",
       "    </tr>\n",
       "    <tr>\n",
       "      <th>2842</th>\n",
       "      <td>0.295241</td>\n",
       "      <td>0.859623</td>\n",
       "      <td>0.713178</td>\n",
       "      <td>0.543784</td>\n",
       "      <td>0.876428</td>\n",
       "      <td>0.917574</td>\n",
       "      <td>0.941059</td>\n",
       "      <td>0.003187</td>\n",
       "      <td>0.020090</td>\n",
       "      <td>0.962251</td>\n",
       "      <td>0.904464</td>\n",
       "      <td>0.961944</td>\n",
       "      <td>0.746055</td>\n",
       "      <td>0.396396</td>\n",
       "      <td>0.887282</td>\n",
       "      <td>0.019261</td>\n",
       "      <td>1.000000</td>\n",
       "      <td>0.631005</td>\n",
       "    </tr>\n",
       "  </tbody>\n",
       "</table>\n",
       "<p>2843 rows × 18 columns</p>\n",
       "</div>"
      ],
      "text/plain": [
       "         Price  Y2_Price  Y10_Price  UC_Price  EU_Price  GB_Price  JP_Price  \\\n",
       "0     0.238627  0.179847   0.876279  0.497450  0.266528  0.079199  0.113516   \n",
       "1     0.233182  0.210181   0.915039  0.508264  0.297335  0.083636  0.134073   \n",
       "2     0.230650  0.199372   0.895194  0.514419  0.326064  0.085787  0.136256   \n",
       "3     0.225831  0.171478   0.873178  0.516089  0.346833  0.080947  0.133164   \n",
       "4     0.221298  0.163110   0.860465  0.523738  0.338872  0.080005  0.125523   \n",
       "...        ...       ...        ...       ...       ...       ...       ...   \n",
       "2838  0.258093  0.828278   0.695194  0.537893  0.889581  0.901304  0.927415   \n",
       "2839  0.261332  0.835704   0.694264  0.571830  0.905504  0.906010  0.936693   \n",
       "2840  0.266914  0.827266   0.691473  0.612625  0.892004  0.910044  0.933600   \n",
       "2841  0.281697  0.829393   0.691783  0.577457  0.891312  0.913003  0.933054   \n",
       "2842  0.295241  0.859623   0.713178  0.543784  0.876428  0.917574  0.941059   \n",
       "\n",
       "      NetWeight  TradeValue  WTI_Price   B_Price  Gas_Price  heating_Price  \\\n",
       "0      0.079803    0.282793   0.787268  0.682927   0.425557       0.419028   \n",
       "1      0.079803    0.282793   0.792971  0.701058   0.399386       0.426917   \n",
       "2      0.079803    0.282793   0.781070  0.692039   0.394178       0.420066   \n",
       "3      0.079803    0.282793   0.778900  0.681086   0.392576       0.414564   \n",
       "4      0.079803    0.282793   0.786463  0.702899   0.389505       0.429989   \n",
       "...         ...         ...        ...       ...        ...            ...   \n",
       "2838   0.004249    0.026787   0.917126  0.840865   1.000000       0.719558   \n",
       "2839   0.004249    0.026787   0.940433  0.844823   0.991588       0.742011   \n",
       "2840   0.004249    0.026787   0.946507  0.872895   0.967419       0.749724   \n",
       "2841   0.004249    0.026787   0.949854  0.921307   0.979169       0.732398   \n",
       "2842   0.003187    0.020090   0.962251  0.904464   0.961944       0.746055   \n",
       "\n",
       "           NAV  Dollor_Price     Stock  STS_price  Current_Price  \n",
       "0     0.831081      0.201149  0.179010   0.181049       0.494970  \n",
       "1     0.843243      0.226880  0.178936   0.181049       0.480091  \n",
       "2     0.827928      0.243512  0.179380   0.181049       0.486467  \n",
       "3     0.831532      0.250416  0.179025   0.181049       0.471447  \n",
       "4     0.841892      0.246336  0.178804   0.181049       0.463086  \n",
       "...        ...           ...       ...        ...            ...  \n",
       "2838  0.404505      0.905011  0.019557   1.000000       0.526286  \n",
       "2839  0.399550      0.911507  0.020739   1.000000       0.538898  \n",
       "2840  0.409459      0.904635  0.020000   1.000000       0.562279  \n",
       "2841  0.415766      0.899614  0.019852   1.000000       0.570781  \n",
       "2842  0.396396      0.887282  0.019261   1.000000       0.631005  \n",
       "\n",
       "[2843 rows x 18 columns]"
      ]
     },
     "execution_count": 9,
     "metadata": {},
     "output_type": "execute_result"
    }
   ],
   "source": [
    "df.sort_index(ascending=False).reset_index(drop=True)\n",
    "\n",
    "scaler = MinMaxScaler()\n",
    "scale_cols = ['Price', 'Y2_Price', 'Y10_Price', 'UC_Price', 'EU_Price',\n",
    "       'GB_Price', 'JP_Price', 'NetWeight', 'TradeValue', 'WTI_Price',\n",
    "       'B_Price', 'Gas_Price', 'heating_Price', 'NAV', 'Dollor_Price', 'Stock',\n",
    "       'STS_price', 'Current_Price']\n",
    "df_scaled = scaler.fit_transform(df[scale_cols])\n",
    "df_scaled = pd.DataFrame(df_scaled)\n",
    "df_scaled.columns = scale_cols\n",
    "df_scaled"
   ]
  },
  {
   "cell_type": "code",
   "execution_count": 21,
   "id": "aafe2bdc",
   "metadata": {},
   "outputs": [],
   "source": [
    "X1 = df_scaled[['Y2_Price', 'Y10_Price', 'UC_Price', 'EU_Price',\n",
    "       'GB_Price', 'JP_Price', 'NetWeight', 'TradeValue', 'WTI_Price',\n",
    "       'B_Price', 'Gas_Price', 'heating_Price', 'NAV', 'Dollor_Price', 'Stock',\n",
    "       'STS_price']].values\n",
    "y1 = df_scaled['Price'].values"
   ]
  },
  {
   "cell_type": "code",
   "execution_count": 22,
   "id": "3f440a9a",
   "metadata": {},
   "outputs": [],
   "source": [
    "def seq_data(x, y, sequence_length):\n",
    "  \n",
    "    x_seq = []\n",
    "    y_seq = []\n",
    "    for i in range(len(x) - sequence_length):\n",
    "        x_seq.append(x[i: i+sequence_length])\n",
    "        y_seq.append(y[i+sequence_length])\n",
    "\n",
    "    return torch.FloatTensor(x_seq).to(device), torch.FloatTensor(y_seq).to(device).view([-1, 1]) \n",
    "    # float형 tensor로 변형, gpu사용가능하게 .to(device)를 사용."
   ]
  },
  {
   "cell_type": "code",
   "execution_count": 23,
   "id": "d3c30ee8",
   "metadata": {},
   "outputs": [
    {
     "name": "stdout",
     "output_type": "stream",
     "text": [
      "torch.Size([1500, 5, 16]) torch.Size([1500, 1])\n",
      "torch.Size([1338, 5, 16]) torch.Size([1338, 1])\n"
     ]
    }
   ],
   "source": [
    "split = 1500\n",
    "sequence_length = 5\n",
    "\n",
    "x1_seq, y1_seq = seq_data(X1, y1, sequence_length)\n",
    "\n",
    "x1_train_seq = x1_seq[:split]\n",
    "y1_train_seq = y1_seq[:split]\n",
    "x1_test_seq = x1_seq[split:]\n",
    "y1_test_seq = y1_seq[split:]\n",
    "print(x1_train_seq.size(), y1_train_seq.size())\n",
    "print(x1_test_seq.size(), y1_test_seq.size())"
   ]
  },
  {
   "cell_type": "code",
   "execution_count": 24,
   "id": "602f48cc",
   "metadata": {},
   "outputs": [],
   "source": [
    "train1 = torch.utils.data.TensorDataset(x1_train_seq, y1_train_seq)\n",
    "test1 = torch.utils.data.TensorDataset(x1_test_seq, y1_test_seq)\n",
    "\n",
    "batch_size = 20\n",
    "train_loader1 = torch.utils.data.DataLoader(dataset=train1, batch_size=batch_size, shuffle=False)\n",
    "test_loader1 = torch.utils.data.DataLoader(dataset=test1, batch_size=batch_size, shuffle=False)"
   ]
  },
  {
   "cell_type": "code",
   "execution_count": 25,
   "id": "ad0c59c0",
   "metadata": {},
   "outputs": [],
   "source": [
    "input_size = x1_seq.size(2)\n",
    "num_layers = 2\n",
    "hidden_size = 8"
   ]
  },
  {
   "cell_type": "code",
   "execution_count": 26,
   "id": "5224a3f0",
   "metadata": {},
   "outputs": [],
   "source": [
    "class VanillaRNN(nn.Module):\n",
    "\n",
    "    def __init__(self, input_size, hidden_size, sequence_length, num_layers, device):\n",
    "        super(VanillaRNN, self).__init__()\n",
    "        self.device = device\n",
    "        self.hidden_size = hidden_size\n",
    "        self.num_layers = num_layers\n",
    "        self.rnn = nn.RNN(input_size, hidden_size, num_layers, batch_first=True)\n",
    "        self.fc = nn.Sequential(nn.Linear(hidden_size * sequence_length, 1), nn.Sigmoid())\n",
    "\n",
    "    def forward(self, x):\n",
    "        h0 = torch.zeros(self.num_layers, x.size()[0], self.hidden_size).to(self.device) # 초기 hidden state 설정하기.\n",
    "        out, _ = self.rnn(x, h0) # out: RNN의 마지막 레이어로부터 나온 output feature 를 반환한다. hn: hidden state를 반환한다.\n",
    "        out = out.reshape(out.shape[0], -1) # many to many 전략\n",
    "        out = self.fc(out)\n",
    "        return out\n",
    "model = VanillaRNN(input_size=input_size,\n",
    "                   hidden_size=hidden_size,\n",
    "                   sequence_length=sequence_length,\n",
    "                   num_layers=num_layers,\n",
    "                   device=device).to(device)"
   ]
  },
  {
   "cell_type": "code",
   "execution_count": 27,
   "id": "15b57965",
   "metadata": {},
   "outputs": [],
   "source": [
    "criterion = nn.MSELoss()\n",
    "\n",
    "lr = 1e-3\n",
    "num_epochs = 1000\n",
    "optimizer = optim.Adam(model.parameters(), lr=lr)"
   ]
  },
  {
   "cell_type": "code",
   "execution_count": 28,
   "id": "085a0b2c",
   "metadata": {},
   "outputs": [
    {
     "name": "stdout",
     "output_type": "stream",
     "text": [
      "[epoch: 0] loss: 0.06047\n",
      "[epoch: 50] loss: 0.00071\n",
      "[epoch: 100] loss: 0.00036\n",
      "[epoch: 150] loss: 0.00024\n",
      "[epoch: 200] loss: 0.00017\n",
      "[epoch: 250] loss: 0.00022\n",
      "[epoch: 300] loss: 0.00014\n",
      "[epoch: 350] loss: 0.00013\n",
      "[epoch: 400] loss: 0.00011\n",
      "[epoch: 450] loss: 0.00012\n",
      "[epoch: 500] loss: 0.00018\n",
      "[epoch: 550] loss: 0.00017\n",
      "[epoch: 600] loss: 0.00008\n",
      "[epoch: 650] loss: 0.00008\n",
      "[epoch: 700] loss: 0.00019\n",
      "[epoch: 750] loss: 0.00011\n",
      "[epoch: 800] loss: 0.00012\n",
      "[epoch: 850] loss: 0.00038\n",
      "[epoch: 900] loss: 0.00020\n",
      "[epoch: 950] loss: 0.00017\n"
     ]
    }
   ],
   "source": [
    "loss_graph = [] # 그래프 그릴 목적인 loss.\n",
    "n = len(train_loader1)\n",
    "\n",
    "for epoch in range(num_epochs):\n",
    "    running_loss = 0.0\n",
    "\n",
    "    for data in train_loader1:\n",
    "\n",
    "        seq, target = data # 배치 데이터.\n",
    "        out = model(seq)   # 모델에 넣고,\n",
    "        loss = criterion(out, target) # output 가지고 loss 구하고,\n",
    "\n",
    "        optimizer.zero_grad()\n",
    "        loss.backward() # loss가 최소가 되게하는 \n",
    "        optimizer.step() # 가중치 업데이트 해주고,\n",
    "        running_loss += loss.item() # 한 배치의 loss 더해주고,\n",
    "\n",
    "    loss_graph.append(running_loss / n) # 한 epoch에 모든 배치들에 대한 평균 loss 리스트에 담고,\n",
    "    if epoch % 50 == 0:\n",
    "        print('[epoch: %d] loss: %.5f'%(epoch, running_loss/n))"
   ]
  },
  {
   "cell_type": "code",
   "execution_count": 29,
   "id": "75693a07",
   "metadata": {},
   "outputs": [
    {
     "data": {
      "image/png": "[encoded data removed]",
      "text/plain": [
       "<Figure size 1440x720 with 1 Axes>"
      ]
     },
     "metadata": {
      "needs_background": "light"
     },
     "output_type": "display_data"
    }
   ],
   "source": [
    "plt.figure(figsize=(20,10))\n",
    "plt.plot(loss_graph)\n",
    "plt.show()"
   ]
  },
  {
   "cell_type": "code",
   "execution_count": 30,
   "id": "aefc4c28",
   "metadata": {},
   "outputs": [
    {
     "data": {
      "image/png": "[encoded data removed]",
      "text/plain": [
       "<Figure size 1440x720 with 1 Axes>"
      ]
     },
     "metadata": {
      "needs_background": "light"
     },
     "output_type": "display_data"
    }
   ],
   "source": [
    "def plotting(train_loader, test_loader, actual):\n",
    "        \n",
    "    with torch.no_grad():\n",
    "        train_pred = []\n",
    "        test_pred = []\n",
    "\n",
    "        for data in train_loader:\n",
    "            seq, target = data\n",
    "            out = model(seq)\n",
    "            train_pred += out.cpu().numpy().tolist()\n",
    "\n",
    "        for data in test_loader:\n",
    "            seq, target = data\n",
    "            out = model(seq)\n",
    "            test_pred += out.cpu().numpy().tolist()\n",
    "      \n",
    "    total = train_pred + test_pred\n",
    "    plt.figure(figsize=(20,10))\n",
    "    plt.plot(np.ones(100)*len(train_pred), np.linspace(0,1,100), '--', linewidth=0.6)\n",
    "    plt.plot(actual, '--')\n",
    "    plt.plot(total, 'b', linewidth=0.6)\n",
    "\n",
    "    plt.legend(['train boundary', 'actual', 'prediction'])\n",
    "    plt.show()\n",
    "\n",
    "plotting(train_loader1, test_loader1, df_scaled['Price'][sequence_length:])"
   ]
  },
  {
   "cell_type": "code",
   "execution_count": 22,
   "id": "78258c17",
   "metadata": {},
   "outputs": [],
   "source": [
    "X = df_scaled[['WTI_Price','B_Price','heating_Price','Gas_Price','Price_y','NAV','STS_price',\n",
    "               'TradeValue','UC_Price','Y2_Price','GB_Price','JP_Price','EU_Price','Dollor_Price','Stock']].values\n",
    "y = df_scaled['Price'].values"
   ]
  },
  {
   "cell_type": "code",
   "execution_count": 23,
   "id": "9dfa5b64",
   "metadata": {},
   "outputs": [
    {
     "name": "stdout",
     "output_type": "stream",
     "text": [
      "torch.Size([1500, 5, 15]) torch.Size([1500, 1])\n",
      "torch.Size([1287, 5, 15]) torch.Size([1287, 1])\n"
     ]
    }
   ],
   "source": [
    "split = 1500\n",
    "sequence_length = 5\n",
    "\n",
    "x_seq, y_seq = seq_data(X, y, sequence_length)\n",
    "\n",
    "x_train_seq = x_seq[:split]\n",
    "y_train_seq = y_seq[:split]\n",
    "x_test_seq = x_seq[split:]\n",
    "y_test_seq = y_seq[split:]\n",
    "print(x_train_seq.size(), y_train_seq.size())\n",
    "print(x_test_seq.size(), y_test_seq.size())"
   ]
  },
  {
   "cell_type": "code",
   "execution_count": 24,
   "id": "5cedc2ad",
   "metadata": {},
   "outputs": [],
   "source": [
    "train = torch.utils.data.TensorDataset(x_train_seq, y_train_seq)\n",
    "test = torch.utils.data.TensorDataset(x_test_seq, y_test_seq)\n",
    "\n",
    "batch_size = 20\n",
    "train_loader = torch.utils.data.DataLoader(dataset=train, batch_size=batch_size, shuffle=False)\n",
    "test_loader = torch.utils.data.DataLoader(dataset=test, batch_size=batch_size, shuffle=False)"
   ]
  },
  {
   "cell_type": "code",
   "execution_count": 25,
   "id": "c6a4adbc",
   "metadata": {},
   "outputs": [],
   "source": [
    "input_size = x_seq.size(2)\n",
    "num_layers = 2\n",
    "hidden_size = 8"
   ]
  },
  {
   "cell_type": "code",
   "execution_count": 26,
   "id": "688c9ea0",
   "metadata": {},
   "outputs": [],
   "source": [
    "class VanillaRNN(nn.Module):\n",
    "\n",
    "    def __init__(self, input_size, hidden_size, sequence_length, num_layers, device):\n",
    "        super(VanillaRNN, self).__init__()\n",
    "        self.device = device\n",
    "        self.hidden_size = hidden_size\n",
    "        self.num_layers = num_layers\n",
    "        self.rnn = nn.RNN(input_size, hidden_size, num_layers, batch_first=True)\n",
    "        self.fc = nn.Sequential(nn.Linear(hidden_size * sequence_length, 1), nn.Sigmoid())\n",
    "\n",
    "    def forward(self, x):\n",
    "        h0 = torch.zeros(self.num_layers, x.size()[0], self.hidden_size).to(self.device) # 초기 hidden state 설정하기.\n",
    "        out, _ = self.rnn(x, h0) # out: RNN의 마지막 레이어로부터 나온 output feature 를 반환한다. hn: hidden state를 반환한다.\n",
    "        out = out.reshape(out.shape[0], -1) # many to many 전략\n",
    "        out = self.fc(out)\n",
    "        return out\n",
    "model = VanillaRNN(input_size=input_size,\n",
    "                   hidden_size=hidden_size,\n",
    "                   sequence_length=sequence_length,\n",
    "                   num_layers=num_layers,\n",
    "                   device=device).to(device)"
   ]
  },
  {
   "cell_type": "code",
   "execution_count": 27,
   "id": "f387ba46",
   "metadata": {},
   "outputs": [],
   "source": [
    "criterion = nn.MSELoss()\n",
    "\n",
    "lr = 1e-3\n",
    "num_epochs = 1000\n",
    "optimizer = optim.Adam(model.parameters(), lr=lr)"
   ]
  },
  {
   "cell_type": "code",
   "execution_count": 28,
   "id": "771895df",
   "metadata": {},
   "outputs": [
    {
     "name": "stdout",
     "output_type": "stream",
     "text": [
      "[epoch: 0] loss: 0.03836\n",
      "[epoch: 50] loss: 0.00065\n",
      "[epoch: 100] loss: 0.00037\n",
      "[epoch: 150] loss: 0.00029\n",
      "[epoch: 200] loss: 0.00025\n",
      "[epoch: 250] loss: 0.00029\n",
      "[epoch: 300] loss: 0.00029\n",
      "[epoch: 350] loss: 0.00031\n",
      "[epoch: 400] loss: 0.00024\n",
      "[epoch: 450] loss: 0.00023\n",
      "[epoch: 500] loss: 0.00028\n",
      "[epoch: 550] loss: 0.00027\n",
      "[epoch: 600] loss: 0.00029\n",
      "[epoch: 650] loss: 0.00025\n",
      "[epoch: 700] loss: 0.00022\n",
      "[epoch: 750] loss: 0.00025\n",
      "[epoch: 800] loss: 0.00023\n",
      "[epoch: 850] loss: 0.00018\n",
      "[epoch: 900] loss: 0.00018\n",
      "[epoch: 950] loss: 0.00028\n"
     ]
    }
   ],
   "source": [
    "loss_graph = [] # 그래프 그릴 목적인 loss.\n",
    "n = len(train_loader)\n",
    "\n",
    "for epoch in range(num_epochs):\n",
    "    running_loss = 0.0\n",
    "\n",
    "    for data in train_loader:\n",
    "\n",
    "        seq, target = data # 배치 데이터.\n",
    "        out = model(seq)   # 모델에 넣고,\n",
    "        loss = criterion(out, target) # output 가지고 loss 구하고,\n",
    "\n",
    "        optimizer.zero_grad()\n",
    "        loss.backward() # loss가 최소가 되게하는 \n",
    "        optimizer.step() # 가중치 업데이트 해주고,\n",
    "        running_loss += loss.item() # 한 배치의 loss 더해주고,\n",
    "\n",
    "    loss_graph.append(running_loss / n) # 한 epoch에 모든 배치들에 대한 평균 loss 리스트에 담고,\n",
    "    if epoch % 50 == 0:\n",
    "        print('[epoch: %d] loss: %.5f'%(epoch, running_loss/n))"
   ]
  },
  {
   "cell_type": "code",
   "execution_count": 29,
   "id": "12d402cd",
   "metadata": {},
   "outputs": [
    {
     "data": {
      "image/png": "[encoded data removed]",
      "text/plain": [
       "<Figure size 1440x720 with 1 Axes>"
      ]
     },
     "metadata": {
      "needs_background": "light"
     },
     "output_type": "display_data"
    }
   ],
   "source": [
    "plt.figure(figsize=(20,10))\n",
    "plt.plot(loss_graph)\n",
    "plt.show()"
   ]
  },
  {
   "cell_type": "code",
   "execution_count": 30,
   "id": "ac55664d",
   "metadata": {
    "scrolled": false
   },
   "outputs": [
    {
     "data": {
      "image/png": "[encoded data removed]",
      "text/plain": [
       "<Figure size 1440x720 with 1 Axes>"
      ]
     },
     "metadata": {
      "needs_background": "light"
     },
     "output_type": "display_data"
    }
   ],
   "source": [
    "def plotting(train_loader, test_loader, actual):\n",
    "        \n",
    "    with torch.no_grad():\n",
    "        train_pred = []\n",
    "        test_pred = []\n",
    "\n",
    "        for data in train_loader:\n",
    "            seq, target = data\n",
    "            out = model(seq)\n",
    "            train_pred += out.cpu().numpy().tolist()\n",
    "\n",
    "        for data in test_loader:\n",
    "            seq, target = data\n",
    "            out = model(seq)\n",
    "            test_pred += out.cpu().numpy().tolist()\n",
    "      \n",
    "    total = train_pred + test_pred\n",
    "    plt.figure(figsize=(20,10))\n",
    "    plt.plot(np.ones(100)*len(train_pred), np.linspace(0,1,100), '--', linewidth=0.6)\n",
    "    plt.plot(actual, '--')\n",
    "    plt.plot(total, 'b', linewidth=0.6)\n",
    "\n",
    "    plt.legend(['train boundary', 'actual', 'prediction'])\n",
    "    plt.show()\n",
    "\n",
    "plotting(train_loader, test_loader, df_scaled['Price'][sequence_length:])"
   ]
  },
  {
   "cell_type": "code",
   "execution_count": null,
   "id": "73f2af8d",
   "metadata": {},
   "outputs": [],
   "source": []
  },
  {
   "cell_type": "code",
   "execution_count": null,
   "id": "6415f1f0",
   "metadata": {},
   "outputs": [],
   "source": []
  },
  {
   "cell_type": "code",
   "execution_count": null,
   "id": "4bfb902a",
   "metadata": {},
   "outputs": [],
   "source": [
    "def seq_data(x, y, sequence_length):\n",
    "  \n",
    "    x_seq = []\n",
    "    y_seq = []\n",
    "    for i in range(len(x) - sequence_length):\n",
    "        x_seq.append(x[i: i+sequence_length])\n",
    "        y_seq.append(y[i+sequence_length])\n",
    "\n",
    "    return torch.FloatTensor(x_seq).to(device), torch.FloatTensor(y_seq).to(device).view([-1, 1]) \n",
    "    # float형 tensor로 변형, gpu사용가능하게 .to(device)를 사용."
   ]
  }
 ],
 "metadata": {
  "kernelspec": {
   "display_name": "Python 3 (ipykernel)",
   "language": "python",
   "name": "python3"
  },
  "language_info": {
   "codemirror_mode": {
    "name": "ipython",
    "version": 3
   },
   "file_extension": ".py",
   "mimetype": "text/x-python",
   "name": "python",
   "nbconvert_exporter": "python",
   "pygments_lexer": "ipython3",
   "version": "3.9.7"
  }
 },
 "nbformat": 4,
 "nbformat_minor": 5
}
