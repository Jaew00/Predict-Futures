{
 "cells": [
  {
   "cell_type": "code",
   "execution_count": null,
   "metadata": {
    "scrolled": true
   },
   "outputs": [],
   "source": [
    "from selenium import webdriver\n",
    "import time\n",
    "from selenium.webdriver.common.keys import Keys\n",
    "from newspaper import Article\n",
    "import pandas as pd\n",
    "import requests\n",
    "import re\n",
    "from bs4 import BeautifulSoup as bs\n",
    "import datetime\n",
    "import csv\n",
    "import sys\n",
    "import schedule\n",
    "import os\n",
    "\n",
    "def Crawling() :\n",
    "\n",
    "    url='https://www.newsnow.co.uk/h/Industry+Sectors/Commodities/Industrial+Metals/Nickel?type=ln'\n",
    "\n",
    "    options = webdriver.ChromeOptions()\n",
    "    options.add_argument(\"headless\")\n",
    "    \n",
    "    \n",
    "    driver_path = '/usr/bin/chromedriver'\n",
    "    driver=webdriver.Chrome(driver_path, options=options)\n",
    "    driver.implicitly_wait(3)\n",
    "    driver.get(url)\n",
    "\n",
    "    res = requests.get(url)\n",
    "    soup = bs(res.text, 'lxml')\n",
    "    div = soup.select_one(\"div.rs-grid.rs-grid--skeleton.js-skeleton > main > div.rs-newsbox.js-newsbox.js-newsmain.js-central_ln_wrap > div\").findAll('div', {\"class\" : \"hl\"})\n",
    "\n",
    "    temp_link_list = []\n",
    "    link_list = []\n",
    "    name_list = []\n",
    "    article_list = []\n",
    "    date_list = []\n",
    "\n",
    "\n",
    "    for hl in div :\n",
    "        data = hl.find('a', {\"class\" : \"hll\"})\n",
    "        time = hl.find('span', {'class' : \"time\"})\n",
    "        \n",
    "        date = time.text\n",
    "        date = pd.to_datetime(date)\n",
    "        date = date.strftime(\"%Y-%m-%d %H:%M:%S\")\n",
    "        date_list.append(date)\n",
    "\n",
    "        temp_link_list.append(data.get('href'))\n",
    "        name_list.append(data.text)\n",
    "\n",
    "\n",
    "    for url in temp_link_list :\n",
    "        res = requests.get(url)\n",
    "        soup = bs(res.text, 'lxml')\n",
    "        url = soup.select_one('script').get_text().split(\" \")[13]\n",
    "        urls = re.findall('(?:(?:https?|ftp):\\/\\/)?[\\w/\\-?=%.]+\\.[\\w/\\-?=%.]+', str(url))\n",
    "        urls = ''.join(urls)\n",
    "        link_list.append(urls)\n",
    "\n",
    "\n",
    "    for url in link_list :\n",
    "        article = Article(url)\n",
    "        try :\n",
    "            article.download()\n",
    "            article.parse()\n",
    "            if len(article.text) > 30000 :\n",
    "                article_list.append(article.summary)\n",
    "            else :\n",
    "                article_list.append(article.text)\n",
    "        except :\n",
    "            article_list.append('')\n",
    "\n",
    "\n",
    "    df = pd.DataFrame({'link' : link_list,\n",
    "                       'title': name_list,\n",
    "                       'time': date_list,\n",
    "                       'article': article_list\n",
    "                      })\n",
    "    \n",
    "\n",
    "    return df"
   ]
  },
  {
   "cell_type": "code",
   "execution_count": null,
   "metadata": {},
   "outputs": [],
   "source": [
    "df = Crawling()"
   ]
  },
  {
   "cell_type": "code",
   "execution_count": null,
   "metadata": {},
   "outputs": [],
   "source": [
    "df.sort_index(axis=0, ascending=False, ignore_index=True, inplace=True)"
   ]
  },
  {
   "cell_type": "code",
   "execution_count": null,
   "id": "84026b15",
   "metadata": {},
   "outputs": [],
   "source": [
    "df['link'] = df['link'].astype('string')\n",
    "df['title'] = df['title'].astype('string')\n",
    "df['time'] = df['time'].astype('string')\n",
    "df['article'] = df['article'].astype('string')"
   ]
  },
  {
   "cell_type": "code",
   "execution_count": null,
   "id": "b438da10",
   "metadata": {},
   "outputs": [],
   "source": [
    "df"
   ]
  },
  {
   "cell_type": "code",
   "execution_count": null,
   "id": "fc6e5248",
   "metadata": {},
   "outputs": [],
   "source": [
    "df.to_csv('news_data_nickel.csv',index=False)"
   ]
  }
 ],
 "metadata": {
  "kernelspec": {
   "display_name": "Python 3",
   "language": "python",
   "name": "python3"
  },
  "language_info": {
   "codemirror_mode": {
    "name": "ipython",
    "version": 3
   },
   "file_extension": ".py",
   "mimetype": "text/x-python",
   "name": "python",
   "nbconvert_exporter": "python",
   "pygments_lexer": "ipython3",
   "version": "3.6.4"
  }
 },
 "nbformat": 4,
 "nbformat_minor": 5
}
