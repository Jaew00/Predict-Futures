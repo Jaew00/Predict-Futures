{
 "cells": [
  {
   "cell_type": "code",
   "execution_count": 20,
   "id": "b168791a-8dba-48a3-ad68-9301afc1e627",
   "metadata": {},
   "outputs": [],
   "source": [
    "import requests\n",
    "from urllib import parse\n",
    "import pandas as pd\n",
    "from bs4 import BeautifulSoup\n",
    "import pandas as pd\n",
    "import time"
   ]
  },
  {
   "cell_type": "code",
   "execution_count": 26,
   "id": "3ae93f4b",
   "metadata": {},
   "outputs": [],
   "source": [
    "def UN_comtrade_crawler(countury, period) :\n",
    "    df = pd.DataFrame()\n",
    "    headers = {\"user-agent\": \"Mozilla/5.0 (Macintosh; Intel Mac OS X 10_15_5) AppleWebKit/537.36 (KHTML, like Gecko) Chrome/84.0.4147.89 Safari/537.36\"}\n",
    "    for r in countury :\n",
    "        time.sleep(1)\n",
    "        print(r)\n",
    "        for ps in period :\n",
    "            print(ps)\n",
    "            api_url = \"http://comtrade.un.org/api/get?\"\n",
    "            params = {\n",
    "                \"r\" : r,\n",
    "                \"ps\" : ps,\n",
    "                \"cc\" : \"2711\",\n",
    "                \"freq\" : \"M\"\n",
    "            }\n",
    "            res = requests.get(api_url, params=params, headers=headers)\n",
    "            n = len(res.json()[\"dataset\"])\n",
    "            trade_info = res.json()[\"dataset\"]\n",
    "            for i in range(n) :\n",
    "                save_params = {\n",
    "                    \"year\" : trade_info[i][\"yr\"],\n",
    "                    \"period\" : trade_info[i][\"period\"],\n",
    "                    \"region_code\" : trade_info[i][\"rtCode\"],\n",
    "                    \"region_name\" : trade_info[i][\"rtTitle\"],\n",
    "                    \"partner_code\" : trade_info[i][\"ptCode\"],\n",
    "                    \"partner_name\" : trade_info[i][\"ptTitle\"],\n",
    "                    \"comodity_code\" : trade_info[i][\"cmdCode\"],\n",
    "                    \"comodity_name\" : trade_info[i][\"cmdDescE\"],\n",
    "                    \"NetWeight\" : trade_info[i][\"NetWeight\"],\n",
    "                    \"TradeValue\" : trade_info[i][\"TradeValue\"]\n",
    "                }\n",
    "                df = df.append(save_params, ignore_index = True)\n",
    "    return df"
   ]
  },
  {
   "cell_type": "code",
   "execution_count": 37,
   "id": "d9d18011",
   "metadata": {},
   "outputs": [
    {
     "name": "stdout",
     "output_type": "stream",
     "text": [
      "842\n",
      "2012\n",
      "2013\n",
      "643\n",
      "2012\n",
      "2013\n",
      "156\n",
      "2012\n",
      "2013\n",
      "124\n",
      "2012\n",
      "2013\n",
      "634\n",
      "2012\n",
      "2013\n",
      "36\n",
      "2012\n",
      "2013\n",
      "579\n",
      "2012\n",
      "2013\n",
      "682\n",
      "2012\n",
      "2013\n",
      "12\n",
      "2012\n",
      "2013\n",
      "818\n",
      "2012\n",
      "2013\n",
      "458\n",
      "2012\n",
      "2013\n"
     ]
    }
   ],
   "source": [
    "period = ['2012', '2013']\n",
    "countury = ['842', '643', '156', '124', '634', '36', '579', '682', '12', '818', '458']\n",
    "\n",
    "df_12_13 = UN_comtrade_crawler(countury, period)"
   ]
  },
  {
   "cell_type": "code",
   "execution_count": 40,
   "id": "80793653",
   "metadata": {},
   "outputs": [],
   "source": [
    "df_12_13.to_csv('12_13_Natural_Gas.csv', index=False)"
   ]
  },
  {
   "cell_type": "code",
   "execution_count": 27,
   "id": "3df5a26d",
   "metadata": {
    "scrolled": true
   },
   "outputs": [
    {
     "name": "stdout",
     "output_type": "stream",
     "text": [
      "842\n",
      "20122013\n",
      "2014\n",
      "2015\n",
      "2016\n",
      "643\n",
      "20122013\n",
      "2014\n",
      "2015\n",
      "2016\n",
      "156\n",
      "20122013\n",
      "2014\n",
      "2015\n",
      "2016\n",
      "124\n",
      "20122013\n",
      "2014\n",
      "2015\n",
      "2016\n",
      "634\n",
      "20122013\n",
      "2014\n",
      "2015\n",
      "2016\n",
      "36\n",
      "20122013\n",
      "2014\n",
      "2015\n",
      "2016\n",
      "579\n",
      "20122013\n",
      "2014\n",
      "2015\n",
      "2016\n",
      "682\n",
      "20122013\n",
      "2014\n",
      "2015\n",
      "2016\n",
      "12\n",
      "20122013\n",
      "2014\n",
      "2015\n",
      "2016\n",
      "818\n",
      "20122013\n",
      "2014\n",
      "2015\n",
      "2016\n",
      "458\n",
      "20122013\n",
      "2014\n",
      "2015\n",
      "2016\n"
     ]
    }
   ],
   "source": [
    "period = ['2012' '2013', '2014', '2015', '2016']\n",
    "countury = ['842', '643', '156', '124', '634', '36', '579', '682', '12', '818', '458']\n",
    "\n",
    "df_12_16 = UN_comtrade_crawler(countury, period)"
   ]
  },
  {
   "cell_type": "code",
   "execution_count": 29,
   "id": "f2091a82",
   "metadata": {},
   "outputs": [],
   "source": [
    "df_12_16.to_csv('12_16_Natural_Gas.csv')"
   ]
  },
  {
   "cell_type": "code",
   "execution_count": 30,
   "id": "f47a741f",
   "metadata": {
    "scrolled": true
   },
   "outputs": [
    {
     "name": "stdout",
     "output_type": "stream",
     "text": [
      "842\n",
      "2017\n",
      "2018\n",
      "2019\n",
      "2020\n",
      "2021\n",
      "643\n",
      "2017\n",
      "2018\n",
      "2019\n",
      "2020\n",
      "2021\n",
      "156\n",
      "2017\n",
      "2018\n",
      "2019\n",
      "2020\n",
      "2021\n",
      "124\n",
      "2017\n",
      "2018\n",
      "2019\n",
      "2020\n",
      "2021\n",
      "634\n",
      "2017\n",
      "2018\n",
      "2019\n",
      "2020\n",
      "2021\n",
      "36\n",
      "2017\n",
      "2018\n",
      "2019\n",
      "2020\n",
      "2021\n",
      "579\n",
      "2017\n",
      "2018\n",
      "2019\n",
      "2020\n",
      "2021\n",
      "682\n",
      "2017\n",
      "2018\n",
      "2019\n",
      "2020\n",
      "2021\n",
      "12\n",
      "2017\n",
      "2018\n",
      "2019\n",
      "2020\n",
      "2021\n",
      "818\n",
      "2017\n",
      "2018\n",
      "2019\n",
      "2020\n",
      "2021\n",
      "458\n",
      "2017\n",
      "2018\n",
      "2019\n",
      "2020\n",
      "2021\n"
     ]
    }
   ],
   "source": [
    "period = ['2017', '2018', '2019', '2020', '2021']\n",
    "countury = ['842', '643', '156', '124', '634', '36', '579', '682', '12', '818', '458']\n",
    "\n",
    "df_17_21 = UN_comtrade_crawler(countury, period)"
   ]
  },
  {
   "cell_type": "code",
   "execution_count": 33,
   "id": "f559f722",
   "metadata": {},
   "outputs": [],
   "source": [
    "df_17_21.to_csv('17_21_Natural_Gas.csv')"
   ]
  },
  {
   "cell_type": "code",
   "execution_count": 41,
   "id": "bd6449b6",
   "metadata": {},
   "outputs": [
    {
     "name": "stdout",
     "output_type": "stream",
     "text": [
      "842\n",
      "2022\n",
      "643\n",
      "2022\n",
      "156\n",
      "2022\n",
      "124\n",
      "2022\n",
      "634\n",
      "2022\n",
      "36\n",
      "2022\n",
      "579\n",
      "2022\n",
      "682\n",
      "2022\n",
      "12\n",
      "2022\n",
      "818\n",
      "2022\n",
      "458\n",
      "2022\n"
     ]
    }
   ],
   "source": [
    "period = ['2022']\n",
    "countury = ['842', '643', '156', '124', '634', '36', '579', '682', '12', '818', '458']\n",
    "\n",
    "df_22 = UN_comtrade_crawler(countury, period)"
   ]
  },
  {
   "cell_type": "code",
   "execution_count": 42,
   "id": "85f7b5ad",
   "metadata": {},
   "outputs": [],
   "source": [
    "df_22.to_csv('22_Natural_Gas.csv', index=False)"
   ]
  },
  {
   "cell_type": "code",
   "execution_count": null,
   "id": "5a030cc8",
   "metadata": {},
   "outputs": [],
   "source": [
    "df = "
   ]
  },
  {
   "cell_type": "code",
   "execution_count": null,
   "id": "dd6ed940",
   "metadata": {},
   "outputs": [],
   "source": [
    "index_1 = df[df[\"partner_name\"] == \"World\"].index\n",
    "index_1\n",
    "df = df.drop(index_1)\n",
    "df = df.drop_duplicates()"
   ]
  }
 ],
 "metadata": {
  "kernelspec": {
   "display_name": "Python 3 (ipykernel)",
   "language": "python",
   "name": "python3"
  },
  "language_info": {
   "codemirror_mode": {
    "name": "ipython",
    "version": 3
   },
   "file_extension": ".py",
   "mimetype": "text/x-python",
   "name": "python",
   "nbconvert_exporter": "python",
   "pygments_lexer": "ipython3",
   "version": "3.9.7"
  }
 },
 "nbformat": 4,
 "nbformat_minor": 5
}
